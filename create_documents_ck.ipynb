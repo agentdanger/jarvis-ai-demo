{
 "cells": [
  {
   "cell_type": "code",
   "execution_count": 1,
   "metadata": {},
   "outputs": [],
   "source": [
    "from transformers import AutoTokenizer\n",
    "\n",
    "from langchain.text_splitter import SentenceTransformersTokenTextSplitter\n",
    "import os\n",
    "import psycopg2 as pg\n"
   ]
  },
  {
   "cell_type": "code",
   "execution_count": 2,
   "metadata": {},
   "outputs": [],
   "source": [
    "# connect to postgresql database\n",
    "\n",
    "connection = pg.connect(\n",
    "    user=os.environ.get('DB_USER'),\n",
    "    password=os.environ.get('DB_PASSWORD'),\n",
    "    host=\"localhost\",\n",
    "    port=os.environ.get('DB_PORT'),\n",
    "    database=\"vector_test\"\n",
    ")"
   ]
  },
  {
   "cell_type": "code",
   "execution_count": 3,
   "metadata": {},
   "outputs": [],
   "source": [
    "from langchain.document_loaders import PyPDFLoader"
   ]
  },
  {
   "cell_type": "code",
   "execution_count": 4,
   "metadata": {},
   "outputs": [],
   "source": [
    "rfp_submission = PyPDFLoader(\"documents/ck_corebridge_rfp_submission.pdf\")"
   ]
  },
  {
   "cell_type": "code",
   "execution_count": 5,
   "metadata": {},
   "outputs": [],
   "source": [
    "rfp = rfp_submission.load()"
   ]
  },
  {
   "cell_type": "code",
   "execution_count": 6,
   "metadata": {},
   "outputs": [
    {
     "data": {
      "text/plain": [
       "[Document(page_content='1\\n|  CorebridgeCorebridge  \\nFinancialhello\\nOctober 03, 2023\\nFOR INTERNAL USE ONLY. Any and all ideas, concepts and/or strategies, including trademarks or trade descriptions which are part of this presentation are the sole property of Cramer-Krasselt and shall not be used without the express written authorization of Cramer-Krasselt. © 2023 Cramer-Krasselt', metadata={'source': 'documents/ck_corebridge_rfp_submission.pdf', 'page': 0}),\n",
       " Document(page_content='2\\n|  CorebridgeDear Betsy and the entire Corebridge Marketing \\nLeadership Team:\\nThank you for including us in your search \\nfor a new integrated marketing partner. \\n \\nTo be honest, we were more than \\ndisappointed we didn’t prevail the last \\ntime you were seeking a new partner. We \\nknew we had the experience, the tools \\nand the passion to ensure that then AIG \\nand today, Corebridge Financial, would \\ncontinue to see your brand soar to new \\nheights of respect, growth and success. \\n \\nBut we’re honored to be included in \\nyour new search and are determined \\nto demonstrate why we boast such \\nlong relationships with our clients – \\nmeasured in years and decades when \\nmany partnerships today are measured \\nin months or even weeks. \\n \\nWe see great opportunity for your brand. \\nBut respectfully, we see challenges. \\nBuilding a new brand and pulling the right levers from your “parent” brand \\ncan be tricky. Especially when you are \\ncompeting in a market that puts trust \\nand confidence above all. \\n \\nHaving said that, we think you’re on the \\nright track with Action is Everything . It has \\nenergy, modernity and, when linked to \\nyour brand name, suggests solid futures. \\nEarly thinking but we wonder if innovation \\nmay also be an important equity.\\n \\nWe look forward to helping you bring \\neverything to life in insight-fueled creative \\nsolutions, data-driven media planning \\nand optimization, and engaging in \\ndialogue with your current and potential \\nCorebridge customers (“friends” in our \\nvernacular) where they live in essential \\nsocial and financial platforms. \\n The following pages and embedded \\nlinks will share with you why we feel \\nwe are the right partner to take your \\nnascent brand to industry leadership \\n– through a partnership model that is \\ndeeply thoughtful, habitually responsive \\nand always focused on helping \\nCorebridge Financial realize its most \\nambitious potential. \\n \\nWe are extremely excited to turn this \\nwritten and video response into a rich \\nand meaningful dialogue about your \\nbrand, your business and your future. \\n \\n \\nBest regards,\\n \\nBrian Nienhaus  \\nManaging Directo r', metadata={'source': 'documents/ck_corebridge_rfp_submission.pdf', 'page': 1}),\n",
       " Document(page_content='3\\n|  Corebridge\\nC-K at a glance\\nTO SEE OUR REEL, \\nCLICK HERE.', metadata={'source': 'documents/ck_corebridge_rfp_submission.pdf', 'page': 2}),\n",
       " Document(page_content='|  Corebridge\\nC-K has the experience.2. relevant experienceFinancial services. Banking. Credit unions. Both retail and commercial. Health insurance. Automotive insurance. Agents. \\nPolicies. Retirement. Homes. Investments. New jobs, new lives. Hopes, fears, dreams. People, their financial advisors, \\nand their money. Selling through distribution. Talking to multiple stakeholders, multiple layers, in multiple categories. \\nUnderstanding regulated industries. Working the funnel. Mastering complication.\\n \\nC-K has done all of that.  \\nWe’ve talked to and learned from consumers, FAs, agents, distributors. We understand high-net-worth men and women \\nand know how to tap into their rational and emotional sides. We’ve talked to bigwigs in the C-suite. We’ve talked to truck \\ndrivers on the delivery side. \\nWe’ve used sports sponsorships and major activations to develop and refine brand equities and leveraged the experiential \\nbenefits of sponsorships with the PGA, LPGA, USTA and high-end motorsports to build new and deeper friendships between \\ncompanies and their customers. \\n \\nWe know how to work all the angles.  \\nAnd have for everything from Humana to Edward Jones Investments to Flagstar Bank to Cintas.\\nWe get it. More importantly, we get it done. \\n4', metadata={'source': 'documents/ck_corebridge_rfp_submission.pdf', 'page': 3}),\n",
       " Document(page_content='5\\n|  CorebridgeCurrent \\nclients\\nBaird Financial  \\nFarm Credit Mid-America  \\nLandmark Credit Union  \\nRural 1St Lending\\nFormer \\nclients\\nEdward Jones Investments  \\n \\nFlagstar Bank  \\n \\nKeyBank  2. relevant experienceB2B\\nArcBest – Logistics   \\nFormer client  \\n \\n \\nAriens/Gravely  \\nCommercial Lawn Equipment  \\n \\n \\nCintas  \\nIndustrial, workwear, fire protection safety and \\njanitorial supplies and services  \\n \\n \\nCotton Council International  \\nInfluencing and supporting textile businesses \\nglobally to create and weave in U.S. cotton  \\n \\n \\nEcho Power Equipment  \\nCommercial and consumer  \\n \\n \\nFarm Credit Mid-America  \\n(yes, farms are businesses – increasingly, \\nlarge businesses)  \\n \\n \\nFlagstar Bank  \\nCommercial - former client  \\n \\n \\nPorsche Dealer Marketing ServicesB2B2C\\nAriens/Gravely  \\nCommercial Lawn Equipment  \\n \\n \\nCotton Council International  \\nInfluencing and supporting textile businesses \\nglobally to create and weave in U.S. cotton  \\n \\n \\nEcho Power Equipment  \\nCommercial and consumer  \\n \\n \\nEdward Jones Investments  \\nFormer client  \\n \\n \\nFlagstar Bank  \\nFormer client  ', metadata={'source': 'documents/ck_corebridge_rfp_submission.pdf', 'page': 4}),\n",
       " Document(page_content='6\\n|  CorebridgeSenior \\nStaff\\n3M | AT&T (Enterprise, Small Business and Corporate) | Boeing  | Brinks Business Security  \\nCapitol One | Cargill | Charles Schwab | Chase | Citibank  | CME Group | Cox Business \\nEBSCO Health  | Equinix  | General Growth Properties  | Georgia Pacific | Gojo | Google \\nGroupon | Harvard Business Publishing | Intuit (Turbo Tax)  | Koch Industries | Marvin\\nMCN  | Microsoft  | Morgan Stanley | Motorola Solutions | MSF (Financial)  | Ninja Trader  \\nNorthern Trust Mutual | Options  Express | Oracle | Palm  | Scudder Financial | TransUnion \\nVeritas | Verizon Wireless | WellCareC-K senior staff relevant experience2. relevant experience', metadata={'source': 'documents/ck_corebridge_rfp_submission.pdf', 'page': 5}),\n",
       " Document(page_content='7\\n|  Corebridge\\n3. case studyPorsche Taycan\\nThe model launch that  \\nredefined a brand.\\nUmbrella campaign that launched  \\na re-brand or new brand', metadata={'source': 'documents/ck_corebridge_rfp_submission.pdf', 'page': 6}),\n",
       " Document(page_content='|  Corebridge8high-performance sports cars that  \\nhappened to be gasoline powered. But the \\ncar world was going electric, so we needed \\nto modernize the brand. Fast. So when  \\nintroducing the Taycan, Porsche’s first \\nall-electric car, we didn’t just launch a new \\nEV. We redefined the brand. We embraced \\nthe emotional truth of Porsche – the thrill \\nof the drive – through enthusiasts like  \\nKeanu Reeves. We stole Tesla’s tech crown \\nby partnering with ultimate science guy \\nBill Nye. And we made a super-big splash \\nin the Super Bowl, with a :60 spot  \\ncelebrating both Porsche’s storied past \\nand its exhilaratingly electric future.  \\nMaking the Taycan one of Porsche’s most \\nsuccessful launches ever. Porsche was known \\nfor one thing: Porsche Taycan\\nCLICK HERE TO SEE THE CASE\\n3. case study', metadata={'source': 'documents/ck_corebridge_rfp_submission.pdf', 'page': 7}),\n",
       " Document(page_content='9\\n|  Corebridge\\nCintas\\nCross-selling LOBs in a  \\ncomplex B2B market. Targeted communications  \\nfor B2B lines of business3. case study', metadata={'source': 'documents/ck_corebridge_rfp_submission.pdf', 'page': 8}),\n",
       " Document(page_content='10\\n|  Corebridgebetween C-K media, creative and social all \\nworking in the same sandbox to crack a problem. \\nWe had to, because despite being known simply \\nas “the uniform people,” to unlock growth Cintas \\nhad to become successful cross-selling their \\nother lines of business. To succeed with this broad \\nportfolio, they needed to influence and sell to \\nmany B2B stakeholders, from line managers to \\nprocurement to division heads to the C-suite. So, \\nwhen we learned that despite their national might, \\nCintas was viewed as a “local rep” who helped \\nsolve purchase decisions, we flipped the funnel, \\nmining a treasure trove of data from the bottom of \\nthe funnel to inform the top. And we approached \\ncustomers as people, not work automatons, \\nengaging them where they spent their free time. \\nThe result? Tripled the number of customers \\nbuying multiple lines of business.Cintas is a classic \\nexample of \\ninterconnectedness\\nCintas\\nCLICK HERE TO SEE THE CASE3. case study', metadata={'source': 'documents/ck_corebridge_rfp_submission.pdf', 'page': 9}),\n",
       " Document(page_content='11\\n|  Corebridge\\n190956 EDWARD JONES DELTA SKY MAGAZINE FULL PAGE AD — MAY \\nApp: InDesign CC Trim: 8\"(w) x 10.5\"(h) Pubs: Delta Sky Magazine: May(materials due 3.26)\\nArtist: SR Live: 7\"(w) x 9.625\"(h)\\nProof #: 2 Bleed: 8.25\"(w) x 10.75\"(h)\\nScale: 100%\\nColor: 4/C (PMS116) Fonts: Helveticas, Proxima Nova Semibold, Source Sans Pro Black\\nINDIVIDUAL\\nINVESTORS\\nMEET YOUR\\nCHAMPION\\nIn over 13,000 offices, you’ll find a financial advisor who listens,  \\nasks questions, and digs deep to create an investment strategy  \\nas geared to you as the rest of your world.\\nVisit edwardjones.com to learn more..,\\nCopyright © 2019 Edward Jones. All rights reserved. Member SIPC.\\n190956_MeetYourChampion_DeltaSkyMag_FullPg_MAY_8x10.5_v2.indd   1 3/22/19   12:05 PMEdward Jones\\nAttracting higher-end financial \\nadvisors to Edward Jones.Success reaching financial advisors \\nideally via digital and social channels3. case study', metadata={'source': 'documents/ck_corebridge_rfp_submission.pdf', 'page': 10}),\n",
       " Document(page_content='|  Corebridge12But to accelerate their growth, Edward Jones \\nneeded to attract financial advisors with \\nhigher-net-worth clients. So we dug deep \\ninto our targeting, identifying three key FA \\ngroups we addressed through custom  \\nsegments, IP targeting and precise keyword \\nsearch strategies. We created a fully  \\nintegrated digital, social and custom-content \\ncampaign that portrayed Edward Jones  \\nemployees as the financial wizards they \\nwere. And crucially, we put Edward Jones \\nleaders out into the world, showing their \\nsmarts on CNBC, Forbes and more.  \\n \\nResult: a whopping 14% increase  \\nin financial advisors. C-K helped build the \\nEdward Jones brand \\nfrom “hicks in the \\nsticks” to a financial  \\npowerhouse.  \\nEdward Jones\\nCLICK HERE TO SEE THE CASE3. case study', metadata={'source': 'documents/ck_corebridge_rfp_submission.pdf', 'page': 11}),\n",
       " Document(page_content='13\\n|  CorebridgeIt’s connective tissue between your objectives and \\nour media efforts. It uncovers category, brand, \\naudience, and cultural truths that elevate a tactical \\nmedia plan into a strategic and fully accountable \\nstatement of purpose. It starts with Corebridge’s \\nbusiness goal – the north star for everything \\nwe do. We then use proprietary resources like \\nConneCKt, C-K’s channel planning tool, to build a \\nrobust understanding of the consumer journey and \\nidentify the right combination of touchpoints to \\nmaximize performance against your objectives. \\nAnyone can reach financial advisors who happen \\nto be reading Barron’s or skimming LinkedIn or \\nperusing Investmentnews.com. But C-K’s secret \\nsauce - our interconnectedness across Creative, \\nMedia, PR, and Analytics – lets us mine, segment \\nand optimize your data to its fullest.  \\nWe’ll collaborate with you to develop data-\\ninformed strategies that reach your most valuable \\nprospects with the right message, in the right \\nchannel, at the right time to drive engagement \\nand action. C-K Connections Planning isn’t a list of channels and budgets. \\nIt’s not a flowchart.4. Media expertise\\n4a. Provide an executive summary of your media and connections planning and activation strengths with a \\nfocus on similar target audiences.', metadata={'source': 'documents/ck_corebridge_rfp_submission.pdf', 'page': 12}),\n",
       " Document(page_content='14\\n|  CorebridgeThe Connections Plan we’ll build with Corebridge will:\\nDisplay an  \\nunderstanding of the \\ncategory and  \\nCorebridge’s  \\nplace in it.Reflect your  \\nstrengths and  \\npriorities while  \\npositioning  \\nCorebridge in  \\nways that are  \\nunexpected.Uncover an  \\nopportunity  \\nbased on recent  \\nchanges in the  \\nbehavior of your  \\npotential  \\nFriends.Connect brand  \\nidentity and  \\npositioning to  \\nculture and the  \\neconomy.4. Media expertise', metadata={'source': 'documents/ck_corebridge_rfp_submission.pdf', 'page': 13}),\n",
       " Document(page_content='15\\n|  CorebridgeIn fact, we have deep experience \\ncollaborating with clients to maximize \\nsponsorship value and unlock the full \\npotential of partner capabilities and data. \\nAs you saw in our Cintas case study, \\nwe know the mechanics of these sports \\nprograms. But where C-K really shines \\nis collaborating with clients to maximize \\nsponsorship value through unlocking the \\nfull potential of media partner capabilities \\nand data. One example of this is for our B2B \\nclient Farm Credit Mid-America.\\nFCMA is a leading agricultural lender that \\nhas a longstanding relationship with Farm \\nJournal, a key publisher in the farming \\nindustry. We inherited a traditional (and \\nlimited) print and email effort they’d been \\nrunning. But we thought it had the potential \\nto become more: namely, a machine for \\nidentifying niche B2B audiences using \\npropriety data, and a delivery device for thought leadership via custom content.  \\nSo that’s what we built.\\nWe worked with Farm Journal to create \\ncustom targets based on our client’s most \\nvaluable audiences utilizing the publisher’s \\nunique combination of first-party \\nbehavioral data sourced from their owned \\nand operated properties. We then activated \\nthese audiences in digital display utilizing \\ngeofencing in key geographies and around \\ntrade shows as well as weather-triggered \\nmessaging. All this resulted in 80% better \\nKPI performance.\\nThen C-K’s interconnected Media, PR and \\nSocial teams collaborated with FCMA to \\ndevelop content compelling enough to \\ngrab eyeballs on Farm Journal properties \\nand be featured on the client’s website \\nand social channels. Not surprisingly, these \\nefforts exceeded engagement benchmarks \\nby 35%. One more note: media partnerships are, \\nby definition, a two-way street. We’ll ask \\nquestions. We’ll push you. (Hopefully you’ll \\npush us.) We’ll uncover new opportunities \\nand not just “place the buy.” But we treat \\nour client’s budget as if it was our own, \\nand make sure every media commitment \\nachieves your objectives in the smartest, \\nmost unique ways possible. C-K understands the value of strategic partnerships \\nlike Corebridge’s PGA sponsorship.4b. Share an example demonstrating how you optimized a client’s pre-existing media commitment.4. Media expertise', metadata={'source': 'documents/ck_corebridge_rfp_submission.pdf', 'page': 14}),\n",
       " Document(page_content='16\\n|  CorebridgeIt needs to be days and hours. So our process \\nis built for real-time optimization and agile \\nresponse, because waiting for post-campaign \\nreports is a symptom of an analytics process \\nthat’s not fully realized.\\nIn most cases, marketing performance reports \\nare updated daily. And our integrated C-K teams \\nhave real-time access to marketing performance \\ndata at any time they need it. We also produce \\ndeeper-dive reporting and insights learned \\nacross marketing campaigns on any cadence \\nthat makes sense for your marketing team. \\nWe can do this because we approach data \\nand analytics differently. We see them not as a \\nrearview mirror, but as a windshield to what can \\nbe. So let’s talk a little more about our process.In this media environment, \\nyou can’t mark time \\nbetween reports in weeks. 4c. Note how quickly you deliver post-campaign \\nreports and your ability to optimize realtime.4. Media expertise\\n', metadata={'source': 'documents/ck_corebridge_rfp_submission.pdf', 'page': 15}),\n",
       " Document(page_content='17\\n|  CorebridgeC-K Analytics: intelligence,  \\nmade actionable  \\nC-K Analytics is about more than \\nnumbers. We’re about making data \\nactionable, so it can make even more \\nfriends for your brand. Our integrated \\napproach breaks down data silos, \\ntests, learns, and optimizes new \\nmarketing ideas.  \\n \\nThis always-on learning approach \\nmanifests itself in the technologies \\nand applications we invest in for  \\nour clients. DataFirst: full control over your \\nmarketing data  \\nDataFirst is our marketing \\nintelligence platform. It seamlessly \\nintegrates with agency processes \\nincluding connections and content \\narchitectures to align campaign \\nreporting with the decisions you  \\nneed to make to optimize your \\nstrategy. Powered by Adverity, \\nDataFirst has the world’s largest \\nlibrary of data connectors.  \\n \\nIf you need access to data, we  \\nhave it at your fingertips and can \\npresent it via agency-built  \\nmarketing dashboards or synced \\nto your own marketing analytics \\nplatforms. No post-campaign wrap \\nreports – just continuous optimization \\nof your program.Intelligence Enablement:  \\ndata with purpose  \\nData needs relevance and purpose \\nto be useful. Our approach is C-K’s \\nOKR (Objective and Key Results) \\nprocess. The OKR process is a natural \\nextension of the C-K connections plan \\nand aligns optimization results to \\nyour campaign objectives.  \\n \\nThis allows for focus and alignment \\nof your marketing dollars to drive \\nKPIs that matter, but also allows you \\nto pivot focus based on the data \\nthat is flowing in via your marketing \\nperformance dashboards.LinCKage: marketing budget \\noptimization recommendations \\nfrom AI, updated daily  \\nWe’re extremely proud of LinCKage, \\nour award-winning algorithm \\nthat optimizes marketing budget \\nrecommendations and presents \\nthose updates to clients daily.  \\n \\nBased on historical data, the model \\nprovides optimization suggestions \\nfor offline and online marketing \\nchannels – including paid, earned, \\nshared and owned – to identify \\nchannel investments that drive the \\nmost ROI. We’ve imbued LinCKage \\nwith the latest machine learning and \\noptimization techniques.4. Media expertise\\n', metadata={'source': 'documents/ck_corebridge_rfp_submission.pdf', 'page': 16}),\n",
       " Document(page_content='18\\n|  Corebridge5. PR and social media expertiseWe aren’t just a PR or social media agency.\\nWe’re both. We’re fully integrated with our multiple disciplines, and that \\nmagic alchemy makes insights and actions stronger.\\nYears before most brands caught \\nonto social, we recognized that’s \\nwhere opinion-shaping and news-\\nspreading happens. Instagram, X, \\nFacebook, TikTok, LinkedIn, Reddit \\n– they’ve become the platforms \\nof choice for B2B and financial \\nservices brands to claim thought \\nleadership, increase executive \\nvisibility and recruit world-class \\ntalent. And ultimately make friends \\nfor brands – the kind of friend-\\nmaking that builds stature and \\ngrows business.\\nIn an always-on world, we operate \\nwith a 24/7 newsroom mentality \\nto keep up with the latest trends, platform updates and what \\nconsumers and journalists are \\nsaying online about your brand. \\nWe are driven to create real \\nconnections and ensure that the \\nright message resonates with the \\nright person at the right time.\\nWe currently manage these \\nB2B/B2P messaging functions \\nfor W.C. Bradley (TIKI Brand, \\nCharbroil), Spirit Airlines, Cotton \\nCouncil International, Alzheimer’s \\nAssociation and Farm Credit \\nMid-America today, and did for \\nEdward Jones and Flagstar Bank \\nin recent years. However, while we have both \\nPR and Social capabilities \\n(pretty good ones), we believe \\nCorebridge might need a more \\nspecialized PR function. One \\nwith deeper IR capabilities and \\nexperience. We would love \\nto partner with that chosen \\nagency because our social \\nchops and ability to strategize \\nand optimize by platform \\ncan create a formidable \\npartnership. And we are known \\nto be exceptional partners. \\nLow ego and all smarts, \\ncollaboration and execution.5a. Provide an executive summary of your strengths in PR and social media with a focus on your \\nexpertise and contacts with similar B2B targets.', metadata={'source': 'documents/ck_corebridge_rfp_submission.pdf', 'page': 17}),\n",
       " Document(page_content='19\\n|  Corebridge\\nOur full-service expertise includes:\\nSocial Media \\nMarketing &  \\nContent Strategy\\nMedia  \\nRelationsInfluencer  \\nMarketing & \\nStrategy\\nMedia  \\nTrainingInfluencer \\nManagement\\nCrisis \\nCommunicationsCommunity \\nManagement\\nEmployee \\nEngagementAnalytics, Insights \\nand Measurement\\nExecutive  \\nVisibility\\n|  Corebridge\\n5. PR and social media expertise', metadata={'source': 'documents/ck_corebridge_rfp_submission.pdf', 'page': 18}),\n",
       " Document(page_content='20\\n|  CorebridgeInterconnectedness  \\nmatters.\\nBeyond what most other PR and social \\nmedia agencies provide, C-K’s use of data \\nand analytics means we understand what \\nreally matters to your audience and, most \\nimportantly, what will engage them to positively \\naffect everything from brand perception to \\nbehavior. Frankly, it’s part of being a deeply \\ninterconnected agency.\\nWe synthesize platforms, analyze results from \\nsentiment to sales, and bring the power of \\nworld-class strategists in media, data and \\nculture, along with a renowned creative bench \\nto our clients’ needs. And knowing all platforms \\noperate, engage and influence differently, we \\nbuild plans, strategies and content accordingly. \\nCREATIVE\\nINSIGHT/PLANNINGANALYTICS/\\nDATA STRATEGY\\nMEDIA STRATEGY/\\nPLANNING\\nMEDIA INVESTMENT/\\nBUYINGPR/SOCIALPRODUCTION\\nSTUDIOS\\nCONTENT\\nSTRATEGY/SEOSITE AND\\nAPP BUILDS\\nSEM E-COMMERCEDESCK ®\\nPROGRAMMATIC\\nMEDIA BUYINGEXPERIENCE\\nDESIGN5b. Note your points of difference versus other agencies \\nin terms of thought leadership and activation.5. PR and social media expertise', metadata={'source': 'documents/ck_corebridge_rfp_submission.pdf', 'page': 19}),\n",
       " Document(page_content='21\\n|  Corebridge6. key executive teamKaren Seamen\\nBrian Nienhaus\\nPeter Krivkovich\\nPeter is the  \\nfounder of what  \\nCramer-Krasselt \\nhas become.  \\nBorn in Europe of Slavic \\nbackground, Peter came to the U.S. at the \\nage of seven speaking three languages, \\nEnglish not being one of them. \\nHe managed to overcome that to build \\nC-K into one of the largest and most \\nawarded independent agencies in the \\ncountry.\\nPeter has been named AdWeek’s \\nMidwest Executive of the Year, Advertising \\nAge’s 100 Best and Brightest People in \\nAdvertising, and to Chicago’s Who’s Who. \\nHe’s an appreciator of great work and \\ngreat client partnerships which, not \\nsurprisingly, often go together. Karen won’t admit  \\nwhen she started  \\nas an account  \\nsupervisor. Today,  \\nshe runs C-K. \\nShe’s driven our biggest successes, \\nincluding C-K’s innovative single-bottom  \\nline, no-silos model.  \\nShe’s adept at understanding branding  \\nand brand architecture, but ironically  \\nstruggled with architects during our  \\noffice renovation. She’ll stick to brand \\narchitecture.\\nKaren is on the ICOM Board of Directors, \\nhas been named one of “40 Women To \\nWatch” by Advertising Age, and is one of \\nthe “Top Women From Pittsburgh” (her \\nfavorite accolade).  \\nHer hobbies are conference calls, salads \\nand juggling.\\n Chairman | CEO President | COO Managing Director\\nBrian comes across \\nas a nice guy. And in \\nfact is a nice guy. But \\nif there’s a competitor \\nin the way of your \\nbrand, watch out. \\nBrian is one of many C-Kers who’ve \\nboomeranged back here after stints \\nelsewhere (we don’t know what it is,  \\npeople just can’t quit us). Brian has \\nmanaged large agencies and multiple B2B \\nand financial-services clients, including \\nCitibank, Microsoft and Oracle. He also led \\nAT&T’s business systems and corporate \\nbrand efforts.\\nBrian combines a team-oriented,  \\nclient-centric approach with a ruthless \\ndesire to win and has a history of ramping \\nup and building large teams to service \\ncomplex, multi-layered clients. Like we said, \\ncompetitors beware.', metadata={'source': 'documents/ck_corebridge_rfp_submission.pdf', 'page': 20}),\n",
       " Document(page_content='22\\n|  CorebridgeKristin Babcock\\nDirector of  \\nDigital Platforms\\nKristin’s planning \\nactivities go beyond \\nwork. She loves to \\nplan beach vacations \\nfor her family, on an \\nExcel spreadsheet no less \\n(don’t judge).\\nKristin designs audience, data and bid strategies \\nacross search, social and e-commerce \\ncampaigns, which have driven real results for \\nfinancial service clients like Edward Jones and \\nNorthwestern Mutual, as well as leading brands \\nin numerous other categories.\\nDuring her 10 years at C-K, she has been a critical  \\nleader in building our large digital marketing and  \\nmedia practice.  \\n \\nKristin loves musical theatre as well as a good \\nbook. Especially when she’s at the beach with  \\nher family.Gary Doyle\\nGary knew marketing \\nwas for him when he \\nwon a sales contest \\nfor Drix cleaner in a \\nfundraiser for his fifth- \\ngrade band. He’s been \\ntrying to top that ever since. \\n \\nGary’s work has won practically every award \\nthere is (as well as some that haven’t even  \\nbeen invented yet), from Communications  \\nArts to multiple Effies to the One Show, for \\nfinancial service and insurance brands including \\nMorgan Stanley, Edward Jones, Flagstar Bank \\nand Allstate.\\nHe also led one of Porsche’s most successful \\nmodel launches ever for the Panamera, as well \\nas Heinz Ketchup’s Super Bowl campaign, which \\nBuzzfeed said contained the best tweet in the \\nBig Game. An accomplishment to put on his \\ntombstone for sure.Group  \\nCreative Director6. subject matter expertsMaria Frost\\nExecutive  \\nDirector of PR/Social\\nMaria works to stay \\nahead of the trends in \\nPR and social media, \\nand is always chasing \\nthe next smart idea for \\nbrands in the space.\\nMaria’s a core leader on our Porsche, Spirit \\nand Cedar Fair clients. Sports cars, jets and \\nrollercoasters – Maria’s moving fast. \\nShe has a sweet spot for influencer marketing, \\nand in fact drove Edward Jones Investments’ \\nfirst influencer effort, which was pioneering in the \\ncategory and drove terrific ROI for Edward Jones.  \\n \\nShe’s also celebrating the newest addition to  \\nher family, William Emerson – born on July 8 of  \\nthis year.', metadata={'source': 'documents/ck_corebridge_rfp_submission.pdf', 'page': 21}),\n",
       " Document(page_content='23\\n|  CorebridgeDamon Kaydo\\nExecutive  \\nDirector of Media\\nDamon believes \\nsuccess can \\nbe a process \\nand approach, \\nversus simply an \\noutcome.  \\nIt’s kind of Zen. \\nBut don’t be deceived – Damon is  \\na killer. He’s a proven thought leader and \\ninnovator, having received numerous global \\nawards for work spanning over 50 clients \\nwithin multiple challenging categories. \\nHis financial service experience includes \\nSchwab, TurboTax, Farm Credit Mid-America \\nand many others, spanning B2B and B2C \\naudiences.\\n \\nDamon enjoys continuously learning about  \\nnew trends and technology, as well as the  \\nlatest social media, AI and apps. \\nHis knowledge of the latter is constantly \\ntested by his three children, who barrage \\nhim with TikTok, Fortnite and everything in \\nbetween.6. subject matter expertsAndrew Meyer\\nFrom monetizing \\nInstagram at Meta to \\nwinning Gold Lions for \\nKraft, there’s not a whole \\nlot Andrew can’t do.\\nAdept at everything from big \\nbrand ideas to performance marketing, Andrew is \\na consummate creative thinker, as evidenced by \\nhis iconic work for Capital One, Morgan Stanley and \\nKeyBank, as well as Corona, Porsche and Altoids.  \\n \\nA fixer and a tinkerer, Andrew applies his high  \\nlevel of creativity to keeping things running. \\nWhether it’s his campaigns, his creative \\ndepartment or his 40-year-old Range Rover  \\nthat breaks down regularly.Executive  \\nCreative DirectorNancy Maloney\\nNancy is yet another C-K \\nboomerang story. When \\nshe left, she was in PR. \\nShe returned as a strategic \\nSwiss army knife. \\n \\nAs the head of our Insight & \\nStrategy discipline, she leverages her background \\nin advertising plus deep experience in branding, \\nresearch and CX. She’s led brand architecture and \\nstrategy for Northern Trust and NinjaTrader, and \\nhas extensive B2B experience with Google, Harvard \\nBusiness Publishing, Equinix and many others.\\nNancy loves helping clients grow their business – \\nalmost as much as she loves taking inspiration from \\nher two curious kiddos, her husband (a literal rocket \\nscientist) and their rescue pooch. Nancy also loves \\nreading, podcasts and competing in triathlons.Director of  \\nInsight & Strategy', metadata={'source': 'documents/ck_corebridge_rfp_submission.pdf', 'page': 22}),\n",
       " Document(page_content='24\\n|  Corebridge6. subject matter expertsCourtney Perigo\\nExecutive Director  \\nof Data Sciences  \\n& Analytics \\nCourtney is a \\nleading force \\nin the agency’s \\nuse of data as a \\nwindshield, not a \\nrear-view mirror.\\nWhen it comes to squeezing every drop of \\nreturn from a marketing investment, Courtney \\nis your go-to. He leads our efforts in marketing \\ndata science, turning data into decision \\nanalytics that drive clients’ businesses forward.\\nHe’s also led data-science efforts for Edward \\nJones, Nike and CVS. \\nCourtney learned how to tame the bots from \\nhis time at Northwestern, where he earned \\na master’s degree in data science. He’s a \\nbaseball stats nerd and owns a robot. Yup, \\nwe’re happy he’s on our side.Julie Sheridan\\nGroup  \\nAccount Director\\nYou name it, Julie’s \\nhandled it, expertly \\nguiding clients \\nranging from financial \\nservices to  \\namusement parks.\\n \\nIn fact, Julie could talk for hours about what’s \\nmore regulated, mutual funds or rollercoasters. It \\nmight just be a tie. \\nJulie led the team that introduced WellCare’s \\nMedicare part D insurance in 10 weeks from \\nassignment to completion which, if you know \\nthat space, is pretty impressive. She also helped \\nFlagstar Bank rebrand under its much-awarded \\n“Human Interest Rate” campaign. \\nJulie’s advertising career actually started at the \\nage of five, when she made up commercials in \\nthe bathtub. She’s saving one of those scripts for \\njust the right brief. Kirk Pratt\\nGroup  \\nMedia Director\\nKirk manages C-K’s \\nmedia efforts for Farm \\nCredit Mid-America and \\nSpirit Airlines. He also \\nmanages to write original \\nsongs, play in a band and \\nraise two small children. \\n \\nKirk clearly doesn’t sleep.\\nFinancial services is Kirk’s vertical, and he has the \\nhistory to prove it. He led CME Group for 15 years, \\ngrowing them from a trade advertiser to a digital-\\nfirst, category-leading brand. He also led MFS’s \\nmedia efforts for four years.\\nKirk just finished an entire album of new songs and \\nis currently debating which major record label to \\nsign with.', metadata={'source': 'documents/ck_corebridge_rfp_submission.pdf', 'page': 23}),\n",
       " Document(page_content=\"25\\n|  Corebridge17 amusement parks, \\nwater parks and \\nentertainment \\nvenues in the\\nU.S. and Canada900 locations \\nfor B2B \\ndistribution centers\\nPorsche Cars North \\nAmerica, Porsche \\nDealer Marketing \\nServices and Porsche \\nDrive subscription \\nservices\\nLeading ultra- \\nlow-cost carrier in the \\nUnited States, with over \\n500 daily flights to more \\nthan 60 \\ndestinationsTropicana Juices, \\nNaked JuicesProviding lending, \\nbanking,\\nmortgages\\nCorona Extra, Corona \\nPremier, Corona Seltzer \\nand Pacifico\\nTIKI branded\\nproducts\\nBrands include Black \\nMagic, Gumout and \\nRain-X\\nLeading the way \\nto end Alzheimer's \\nand all other \\ndementia\\n7. top ten clients7a. Top 10 clients in the agency office that is submitting to lead the account\", metadata={'source': 'documents/ck_corebridge_rfp_submission.pdf', 'page': 24}),\n",
       " Document(page_content='26\\n|  CorebridgeBaird  \\nFinancialPorsche  \\nDrive\\nLandmark  \\nCredit UnionRural 1st This financial services \\ncompany specializes in \\nprivate wealth management, \\nasset management, global \\ninvestment banking and capital \\nmarkets. C-K was chosen \\nto handle both creative and \\nmedia based on our insights \\ninto investors and strong ability \\nto efficiently target.This specialty area of Porsche \\nsells multiple subscription \\nservices. They needed a strong \\nperformance marketing agency \\nwho can efficiently and effectively \\ntarget and deliver leads – and \\nfacilitate closing them. \\nC-K’s knowledge of how \\npeople think about and handle \\nmoney was the key reason that \\nLandmark chose us to handle \\ntheir creative and media.A sister company to our Farm Credit \\nMid-America client, this national \\nmortgage group specializes in \\nexurban and rural real estate lending. \\nC-K’s innovative thinking and \\napproach for their business led them \\nto follow their sister company to C-K, \\nwhere we handle media creative and \\nsocial. (Yes, business rapidly grew \\nduring the pandemic.)7. gains7b. Accounts that office has gained or lost over the last two years and brief reason why', metadata={'source': 'documents/ck_corebridge_rfp_submission.pdf', 'page': 25}),\n",
       " Document(page_content='27\\n|  CorebridgeT. Marzetti \\nFoods\\nBased on declines with their \\nfoodservice business during \\nthe pandemic, they decided \\nto try to manage work with \\ntheir in-house team until \\nbusiness conditions would \\npermit a return to marketing.Flagstar \\nBank\\nLast year’s merger with New \\nYork Community Bank resulted \\nin reconsideration of how the \\ninstitution would go to market. \\nWe recently finished our last \\nassignment for the retail \\nbanking division.7. losses', metadata={'source': 'documents/ck_corebridge_rfp_submission.pdf', 'page': 26}),\n",
       " Document(page_content='28\\n|  Corebridge\\nBrian Nienhaus\\nManaging Director\\nMobile: 312.371.4322\\nbnienhaus@c-k.comKaren Seamen\\nPresident/COO\\nMobile: 312.497.0101\\nkseamen@c-k.comcontactsprimary secondary\\nCramer-Krasselt\\n225 N Michigan Ave - Chicago, IL 60601\\nc-k.com', metadata={'source': 'documents/ck_corebridge_rfp_submission.pdf', 'page': 27}),\n",
       " Document(page_content='So that’s everything! \\nThank You', metadata={'source': 'documents/ck_corebridge_rfp_submission.pdf', 'page': 28})]"
      ]
     },
     "execution_count": 6,
     "metadata": {},
     "output_type": "execute_result"
    }
   ],
   "source": [
    "rfp"
   ]
  },
  {
   "cell_type": "code",
   "execution_count": 7,
   "metadata": {},
   "outputs": [
    {
     "name": "stderr",
     "output_type": "stream",
     "text": [
      "d:\\Documents\\GitHub\\jarvis-ai-demo\\.venv\\lib\\site-packages\\torch\\_utils.py:831: UserWarning: TypedStorage is deprecated. It will be removed in the future and UntypedStorage will be the only storage class. This should only matter to you if you are using storages directly.  To access UntypedStorage directly, use tensor.untyped_storage() instead of tensor.storage()\n",
      "  return self.fget.__get__(instance, owner)()\n"
     ]
    }
   ],
   "source": [
    "text_splitter = SentenceTransformersTokenTextSplitter(\n",
    "    # Set a really small chunk size, just to show.\n",
    "    tokens_per_chunk=40,\n",
    "    chunk_overlap=4,\n",
    ")"
   ]
  },
  {
   "cell_type": "code",
   "execution_count": 8,
   "metadata": {},
   "outputs": [],
   "source": [
    "docs = text_splitter.transform_documents(rfp)"
   ]
  },
  {
   "cell_type": "code",
   "execution_count": 9,
   "metadata": {},
   "outputs": [
    {
     "data": {
      "text/plain": [
       "186"
      ]
     },
     "execution_count": 9,
     "metadata": {},
     "output_type": "execute_result"
    }
   ],
   "source": [
    "len(docs)"
   ]
  },
  {
   "cell_type": "code",
   "execution_count": 10,
   "metadata": {},
   "outputs": [
    {
     "data": {
      "text/plain": [
       "Document(page_content='1 | corebridgecorebridge financialhello october 03, 2023 for internal use only. any and all ideas, concepts and / or strategies, including trademarks or trade descriptions which are part of', metadata={'source': 'documents/ck_corebridge_rfp_submission.pdf', 'page': 0})"
      ]
     },
     "execution_count": 10,
     "metadata": {},
     "output_type": "execute_result"
    }
   ],
   "source": [
    "docs[0]"
   ]
  },
  {
   "cell_type": "code",
   "execution_count": 11,
   "metadata": {},
   "outputs": [
    {
     "data": {
      "text/plain": [
       "186"
      ]
     },
     "execution_count": 11,
     "metadata": {},
     "output_type": "execute_result"
    }
   ],
   "source": [
    "len(docs)"
   ]
  },
  {
   "cell_type": "code",
   "execution_count": 12,
   "metadata": {},
   "outputs": [],
   "source": [
    "from langchain.embeddings import HuggingFaceEmbeddings\n",
    "\n",
    "embeddings = HuggingFaceEmbeddings(\n",
    ")"
   ]
  },
  {
   "cell_type": "code",
   "execution_count": 13,
   "metadata": {},
   "outputs": [],
   "source": [
    "# for doc in docs:\n",
    "#     source = doc.metadata['source']\n",
    "#     page = doc.metadata['page']\n",
    "#     page_content = doc.page_content\n",
    "#     vector = embeddings.embed_query(page_content)\n",
    "#     # write to database\n",
    "#     cursor = connection.cursor()\n",
    "#     cursor.execute(\"INSERT INTO t_docs (doc_source, doc_page, embedding, doc_content) VALUES (%s, %s, %s, %s)\", (source, page, vector, page_content))\n",
    "#     connection.commit()\n",
    "#     cursor.close()\n",
    "    "
   ]
  },
  {
   "cell_type": "code",
   "execution_count": null,
   "metadata": {},
   "outputs": [],
   "source": [
    "\n",
    "\n"
   ]
  },
  {
   "cell_type": "code",
   "execution_count": null,
   "metadata": {},
   "outputs": [],
   "source": []
  },
  {
   "cell_type": "code",
   "execution_count": null,
   "metadata": {},
   "outputs": [],
   "source": [
    "\n",
    "\n"
   ]
  },
  {
   "cell_type": "code",
   "execution_count": null,
   "metadata": {},
   "outputs": [],
   "source": []
  },
  {
   "cell_type": "code",
   "execution_count": 14,
   "metadata": {},
   "outputs": [],
   "source": [
    "import torch\n",
    "import numpy as np\n",
    "import pandas as pd\n",
    "from peft import PeftModel, PeftConfig\n",
    "from transformers import AutoModelForCausalLM, AutoTokenizer, GenerationConfig"
   ]
  },
  {
   "cell_type": "code",
   "execution_count": 15,
   "metadata": {},
   "outputs": [
    {
     "name": "stdout",
     "output_type": "stream",
     "text": [
      "True\n",
      "11.8\n"
     ]
    }
   ],
   "source": [
    "# check if cuda is available\n",
    "print(torch.cuda.is_available())\n",
    "print(torch.version.cuda)"
   ]
  },
  {
   "cell_type": "code",
   "execution_count": 16,
   "metadata": {},
   "outputs": [],
   "source": [
    "torch.backends.cuda.enable_mem_efficient_sdp(False)\n",
    "torch.backends.cuda.enable_flash_sdp(False)"
   ]
  },
  {
   "cell_type": "code",
   "execution_count": 17,
   "metadata": {},
   "outputs": [],
   "source": [
    "MODEL_NAME = \"IlyaGusev/saiga_mistral_7b_lora\"\n",
    "DEFAULT_MESSAGE_TEMPLATE = \"<s>{role}\\n{content}</s>\"\n",
    "DEFAULT_RESPONSE_TEMPLATE = \"<s>bot\\n\"\n",
    "DEFAULT_SYSTEM_PROMPT = \"Imagine you are a helpful assistant answering questions about Cramer-Krasselt. You are to answer truthfully and accurately.\""
   ]
  },
  {
   "cell_type": "code",
   "execution_count": 18,
   "metadata": {},
   "outputs": [],
   "source": [
    "class Conversation:\n",
    "    def __init__(\n",
    "        self,\n",
    "        message_template=DEFAULT_MESSAGE_TEMPLATE,\n",
    "        system_prompt=DEFAULT_SYSTEM_PROMPT,\n",
    "        response_template=DEFAULT_RESPONSE_TEMPLATE\n",
    "    ):\n",
    "        self.message_template = message_template\n",
    "        self.response_template = response_template\n",
    "        self.messages = [{\n",
    "            \"role\": \"system\",\n",
    "            \"content\": system_prompt\n",
    "        }]\n",
    "\n",
    "    def add_user_message(self, message):\n",
    "        self.messages.append({\n",
    "            \"role\": \"user\",\n",
    "            \"content\": message\n",
    "        })\n",
    "\n",
    "    def add_bot_message(self, message):\n",
    "        self.messages.append({\n",
    "            \"role\": \"bot\",\n",
    "            \"content\": message\n",
    "        })\n",
    "\n",
    "    def get_prompt(self, tokenizer):\n",
    "        final_text = \"\"\n",
    "        for message in self.messages:\n",
    "            message_text = self.message_template.format(**message)\n",
    "            final_text += message_text\n",
    "        final_text += DEFAULT_RESPONSE_TEMPLATE\n",
    "        return final_text.strip()\n",
    "\n",
    "\n",
    "def generate(model, tokenizer, prompt, generation_config):\n",
    "    data = tokenizer(prompt, return_tensors=\"pt\", add_special_tokens=False)\n",
    "    data = {k: v.to(model.device) for k, v in data.items()}\n",
    "    output_ids = model.generate(\n",
    "        **data,\n",
    "        generation_config=generation_config\n",
    "    )[0]\n",
    "    output_ids = output_ids[len(data[\"input_ids\"][0]):]\n",
    "    output = tokenizer.decode(output_ids, skip_special_tokens=True)\n",
    "    return output.strip()"
   ]
  },
  {
   "cell_type": "code",
   "execution_count": 19,
   "metadata": {},
   "outputs": [
    {
     "name": "stdout",
     "output_type": "stream",
     "text": [
      "bin d:\\Documents\\GitHub\\jarvis-ai-demo\\.venv\\lib\\site-packages\\bitsandbytes\\libbitsandbytes_cuda118_nocublaslt.dll\n"
     ]
    },
    {
     "data": {
      "application/vnd.jupyter.widget-view+json": {
       "model_id": "413ddd0de1e44c6685820486694611b2",
       "version_major": 2,
       "version_minor": 0
      },
      "text/plain": [
       "Loading checkpoint shards:   0%|          | 0/2 [00:00<?, ?it/s]"
      ]
     },
     "metadata": {},
     "output_type": "display_data"
    },
    {
     "name": "stderr",
     "output_type": "stream",
     "text": [
      "Special tokens have been added in the vocabulary, make sure the associated word embeddings are fine-tuned or trained.\n"
     ]
    },
    {
     "name": "stdout",
     "output_type": "stream",
     "text": [
      "GenerationConfig {\n",
      "  \"bos_token_id\": 1,\n",
      "  \"do_sample\": true,\n",
      "  \"eos_token_id\": 2,\n",
      "  \"max_new_tokens\": 1536,\n",
      "  \"no_repeat_ngram_size\": 15,\n",
      "  \"pad_token_id\": 0,\n",
      "  \"repetition_penalty\": 1.1,\n",
      "  \"temperature\": 0.2,\n",
      "  \"top_k\": 40,\n",
      "  \"top_p\": 0.9\n",
      "}\n",
      "\n"
     ]
    }
   ],
   "source": [
    "config = PeftConfig.from_pretrained(MODEL_NAME)\n",
    "model = AutoModelForCausalLM.from_pretrained(\n",
    "    config.base_model_name_or_path,\n",
    "    load_in_8bit=True,\n",
    "    torch_dtype=torch.bfloat16,\n",
    "    device_map=\"auto\"\n",
    ")\n",
    "model = PeftModel.from_pretrained(\n",
    "    model,\n",
    "    MODEL_NAME,\n",
    "    torch_dtype=torch.bfloat16\n",
    ")\n",
    "model.eval()\n",
    "\n",
    "tokenizer = AutoTokenizer.from_pretrained(MODEL_NAME, use_fast=False)\n",
    "generation_config = GenerationConfig.from_pretrained(MODEL_NAME)\n",
    "print(generation_config)"
   ]
  },
  {
   "cell_type": "code",
   "execution_count": 20,
   "metadata": {},
   "outputs": [],
   "source": [
    "user_query = \"What is LinCKage and how does it work?\"\n",
    "query_vector = embeddings.embed_query(user_query)\n",
    "\n",
    "query_vector_db = f\"\"\"SELECT * from t_docs ORDER BY embedding <-> '{query_vector}' LIMIT 20\"\"\"\n",
    "\n",
    "# get closest documents that match a query\n",
    "\n",
    "cursor = connection.cursor()\n",
    "cursor.execute(query_vector_db)\n",
    "\n",
    "rows = cursor.fetchall()\n",
    "\n",
    "cursor.close()\n",
    "\n",
    "text = f\"\"\"\n",
    "    Imagine you are a helpful assistant answering questions about a company named Cramer-Krasselt. \n",
    "    You are to answer truthfully and accurately.  \n",
    "    Your response will be professional and not contain profanity or any other inappropriate content. \n",
    "    Use the following ten pieces of context to answer the question at the end. If you don't know the answer, just say that you don't know, don't try to make up an answer. \n",
    "    Keep the answer as concise as possible. \n",
    "    1. {rows[0][3]} \n",
    "    2. {rows[1][3]} \n",
    "    3. {rows[2][3]} \n",
    "    4. {rows[3][3]} \n",
    "    5. {rows[4][3]} \n",
    "    6. {rows[5][3]}\n",
    "    7. {rows[6][3]}\n",
    "    8. {rows[7][3]}\n",
    "    9. {rows[8][3]}\n",
    "    10. {rows[9][3]}\n",
    "    Question: {user_query}\n",
    "    Helpful Answer:\n",
    "\"\"\""
   ]
  },
  {
   "cell_type": "code",
   "execution_count": 21,
   "metadata": {},
   "outputs": [
    {
     "name": "stderr",
     "output_type": "stream",
     "text": [
      "d:\\Documents\\GitHub\\jarvis-ai-demo\\.venv\\lib\\site-packages\\bitsandbytes\\autograd\\_functions.py:322: UserWarning: MatMul8bitLt: inputs will be cast from torch.bfloat16 to float16 during quantization\n",
      "  warnings.warn(f\"MatMul8bitLt: inputs will be cast from {A.dtype} to float16 during quantization\")\n"
     ]
    },
    {
     "name": "stdout",
     "output_type": "stream",
     "text": [
      "---Prompt---\n",
      "\n",
      "    Imagine you are a helpful assistant answering questions about a company named Cramer-Krasselt. \n",
      "    You are to answer truthfully and accurately.  \n",
      "    Your response will be professional and not contain profanity or any other inappropriate content. \n",
      "    Use the following ten pieces of context to answer the question at the end. If you don't know the answer, just say that you don't know, don't try to make up an answer. \n",
      "    Keep the answer as concise as possible. \n",
      "    1. linckage, our award - winning algorithm that optimizes marketing budget recommendations and presents those updates to clients daily. based on historical data, the model provides optimization suggestions for offline and online marketing \n",
      "    2. to create and weave in u. s. cotton echo power equipment commercial and consumer edward jones investments former client flagstar bank former client \n",
      "    3. international influencing and supporting textile businesses globally to create and weave in u. s. cotton echo power equipment commercial and consumer farm credit mid - america ( yes, farms are businesses – increasingly, large businesses ) \n",
      "    4. ##line and online marketing channels – including paid, earned, shared and owned – to identify channel investments that drive the most roi. we ’ ve imbued linckage with the latest machine learning and \n",
      "    5. ##2b arcbest – logistics former client ariens / gravely commercial lawn equipment cintas industrial, workwear, fire protection safety and janitorial supplies and services cotton council international influencing and supporting \n",
      "    6. conneckt, c - k ’ s channel planning tool, to build a robust understanding of the consumer journey and identify the right combination of touchpoints to maximize performance against your objectives. anyone can reach\n",
      "    7. ##vot focus based on the data that is flowing in via your marketing performance dashboards. linckage : marketing budget optimization recommendations from ai, updated daily we ’ re extremely proud of linckage,\n",
      "    8. lines of business. cintas is a classic example of interconnectedness cintas click here to see the case3. case study\n",
      "    9. so that ’ s everything! thank you\n",
      "    10. ##l data warehouse in support of the sales department. helped @ walmartlabs in the development of\n",
      "    Question: What is LinCKage and how does it work?\n",
      "    Helpful Answer:\n",
      "\n",
      "---Response---\n",
      "LinCKage is an award-winning algorithm that optimizes marketing budget recommendations and presents those updates to clients daily, based on historical data. It provides optimization suggestions for offline and online marketing.\n",
      "\n",
      "==============================\n",
      "\n"
     ]
    }
   ],
   "source": [
    "conversation = Conversation()\n",
    "conversation.add_user_message(text)\n",
    "prompt = conversation.get_prompt(tokenizer)\n",
    "\n",
    "output = generate(model, tokenizer, prompt, generation_config)\n",
    "print('---Prompt---')\n",
    "print(text)\n",
    "print('---Response---')\n",
    "print(output)\n",
    "print()\n",
    "print(\"==============================\")\n",
    "print()"
   ]
  }
 ],
 "metadata": {
  "kernelspec": {
   "display_name": ".venv",
   "language": "python",
   "name": "python3"
  },
  "language_info": {
   "codemirror_mode": {
    "name": "ipython",
    "version": 3
   },
   "file_extension": ".py",
   "mimetype": "text/x-python",
   "name": "python",
   "nbconvert_exporter": "python",
   "pygments_lexer": "ipython3",
   "version": "3.10.11"
  }
 },
 "nbformat": 4,
 "nbformat_minor": 2
}
